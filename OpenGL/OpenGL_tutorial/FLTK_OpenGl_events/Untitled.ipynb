{
 "cells": [
  {
   "cell_type": "code",
   "execution_count": 10,
   "metadata": {
    "collapsed": false
   },
   "outputs": [
    {
     "name": "stdout",
     "output_type": "stream",
     "text": [
      "####################################################################################################\n",
      "1 1 250 200 1000 800\n",
      "(0.25, 0.25)\n",
      "####################################################################################################\n",
      "10 10 250 200 1000 800\n",
      "(2.5, 2.5)\n",
      "####################################################################################################\n",
      "2 2 250 200 1000 800\n",
      "(-0.5, -0.5)\n",
      "####################################################################################################\n",
      "20 20 250 200 1000 800\n",
      "(-5.0, -5.0)\n"
     ]
    }
   ],
   "source": [
    "def scale_coords(x,y,w,h,a0,a1,b0,b1):\n",
    "    #double normalizedX = -1.0 + 2.0 * (double)Mouse.getX() / window.width; \n",
    "    #double normalizedY = 1.0 - 2.0 * (double)Mouse.getY() / window.height; \n",
    "    print('#'*100)\n",
    "    print(a1-a0,b1-b0,x,y,w,h)\n",
    "    xn = a0 + (a1-a0) * x / w; \n",
    "    yn = b0 + (b1-b0) * y / h; \n",
    "    return xn, yn;\n",
    "    \n",
    "w = 150\n",
    "h = 200\n",
    "\n",
    "print(scale_coords(250,200,1000,800,0,1,0,1))\n",
    "print(scale_coords(250,200,1000,800,0,10,0,10))\n",
    "print(scale_coords(250,200,1000,800,-1,1,-1,1))\n",
    "print(scale_coords(250,200,1000,800,-10,10,-10,10))"
   ]
  },
  {
   "cell_type": "code",
   "execution_count": null,
   "metadata": {
    "collapsed": true
   },
   "outputs": [],
   "source": []
  }
 ],
 "metadata": {
  "kernelspec": {
   "display_name": "Python 3",
   "language": "python",
   "name": "python3"
  },
  "language_info": {
   "codemirror_mode": {
    "name": "ipython",
    "version": 3
   },
   "file_extension": ".py",
   "mimetype": "text/x-python",
   "name": "python",
   "nbconvert_exporter": "python",
   "pygments_lexer": "ipython3",
   "version": "3.5.2"
  }
 },
 "nbformat": 4,
 "nbformat_minor": 2
}
